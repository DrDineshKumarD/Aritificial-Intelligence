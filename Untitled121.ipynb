{
  "nbformat": 4,
  "nbformat_minor": 0,
  "metadata": {
    "colab": {
      "provenance": []
    },
    "kernelspec": {
      "name": "python3",
      "display_name": "Python 3"
    },
    "language_info": {
      "name": "python"
    }
  },
  "cells": [
    {
      "cell_type": "code",
      "source": [
        "import torch\n",
        "import torch.nn as nn\n",
        "import torch.optim as optim\n",
        "import torchvision\n",
        "from torchvision import datasets, transforms\n",
        "import matplotlib.pyplot as plt\n",
        "import numpy as np\n",
        "\n",
        "# Set device\n",
        "device = torch.device('cuda' if torch.cuda.is_available() else 'cpu')"
      ],
      "metadata": {
        "id": "DtSLm0DK15eV"
      },
      "execution_count": null,
      "outputs": []
    },
    {
      "cell_type": "code",
      "source": [
        "# Define a basic transform\n",
        "transform = transforms.Compose([\n",
        "    transforms.ToTensor(),\n",
        "    transforms.Normalize((0.5, 0.5, 0.5), (0.5, 0.5, 0.5))\n",
        "])"
      ],
      "metadata": {
        "id": "g3VKXQ9i17aC"
      },
      "execution_count": null,
      "outputs": []
    },
    {
      "cell_type": "code",
      "source": [
        "train_dataset = datasets.CIFAR10(root='./data',\\\n",
        "              train=True, download=True, transform=transform)\n",
        "dataloader = torch.utils.data.DataLoader(train_dataset, \\\n",
        "                                batch_size=32, shuffle=True)"
      ],
      "metadata": {
        "colab": {
          "base_uri": "https://localhost:8080/"
        },
        "id": "jYzUihZS2AI4",
        "outputId": "d148484e-ebf4-49b1-9191-d6967f70dc51"
      },
      "execution_count": null,
      "outputs": [
        {
          "output_type": "stream",
          "name": "stderr",
          "text": [
            "100%|██████████| 170M/170M [00:02<00:00, 62.0MB/s]\n"
          ]
        }
      ]
    },
    {
      "cell_type": "code",
      "source": [
        "# Hyperparameters\n",
        "latent_dim = 100\n",
        "lr = 0.0002\n",
        "beta1 = 0.5\n",
        "beta2 = 0.999\n",
        "num_epochs = 10"
      ],
      "metadata": {
        "id": "91ohDJgm2G59"
      },
      "execution_count": null,
      "outputs": []
    },
    {
      "cell_type": "code",
      "source": [
        "import torch\n",
        "import torch.nn as nn\n",
        "\n",
        "# Define the generator\n",
        "class Generator(nn.Module):\n",
        "    def __init__(self, latent_dim):\n",
        "        super(Generator, self).__init__()\n",
        "        self.model = nn.Sequential(\n",
        "            nn.Linear(latent_dim, 128 * 8 * 8),\n",
        "            nn.ReLU(),\n",
        "            nn.Unflatten(1, (128, 8, 8)),\n",
        "            nn.Upsample(scale_factor=2),\n",
        "            nn.Conv2d(128, 128, kernel_size=3, padding=1),\n",
        "            nn.BatchNorm2d(128, momentum=0.78),\n",
        "            nn.ReLU(),\n",
        "            nn.Upsample(scale_factor=2),\n",
        "            nn.Conv2d(128, 64, kernel_size=3, padding=1),\n",
        "            nn.BatchNorm2d(64, momentum=0.78),\n",
        "            nn.ReLU(),\n",
        "            nn.Conv2d(64, 3, kernel_size=3, padding=1),\n",
        "            nn.Tanh()\n",
        "        )\n",
        "\n",
        "    def forward(self, z):\n",
        "        img = self.model(z)\n",
        "        return img\n"
      ],
      "metadata": {
        "id": "oLoUqkxh2kFg"
      },
      "execution_count": null,
      "outputs": []
    },
    {
      "cell_type": "code",
      "source": [
        "# Define the discriminator\n",
        "class Discriminator(nn.Module):\n",
        "    def __init__(self):\n",
        "        super(Discriminator, self).__init__()\n",
        "\n",
        "        self.model = nn.Sequential(\n",
        "        nn.Conv2d(3, 32, kernel_size=3, stride=2, padding=1),\n",
        "        nn.LeakyReLU(0.2),\n",
        "        nn.Dropout(0.25),\n",
        "        nn.Conv2d(32, 64, kernel_size=3, stride=2, padding=1),\n",
        "        nn.ZeroPad2d((0, 1, 0, 1)),\n",
        "        nn.BatchNorm2d(64, momentum=0.82),\n",
        "        nn.LeakyReLU(0.25),\n",
        "        nn.Dropout(0.25),\n",
        "        nn.Conv2d(64, 128, kernel_size=3, stride=2, padding=1),\n",
        "        nn.BatchNorm2d(128, momentum=0.82),\n",
        "        nn.LeakyReLU(0.2),\n",
        "        nn.Dropout(0.25),\n",
        "        nn.Conv2d(128, 256, kernel_size=3, stride=1, padding=1),\n",
        "        nn.BatchNorm2d(256, momentum=0.8),\n",
        "        nn.LeakyReLU(0.25),\n",
        "        nn.Dropout(0.25),\n",
        "        nn.Flatten(),\n",
        "        nn.Linear(256 * 5 * 5, 1),\n",
        "        nn.Sigmoid()\n",
        "    )\n",
        "\n",
        "    def forward(self, img):\n",
        "        validity = self.model(img)\n",
        "        return validity"
      ],
      "metadata": {
        "id": "cDSQNIgv2lmU"
      },
      "execution_count": null,
      "outputs": []
    },
    {
      "cell_type": "code",
      "source": [
        "# Define the generator and discriminator\n",
        "# Initialize generator and discriminator\n",
        "generator = Generator(latent_dim).to(device)\n",
        "discriminator = Discriminator().to(device)\n",
        "# Loss function\n",
        "adversarial_loss = nn.BCELoss()\n",
        "# Optimizers\n",
        "optimizer_G = optim.Adam(generator.parameters()\\\n",
        "                         , lr=lr, betas=(beta1, beta2))\n",
        "optimizer_D = optim.Adam(discriminator.parameters()\\\n",
        "                         , lr=lr, betas=(beta1, beta2))"
      ],
      "metadata": {
        "id": "S-asj_aJ2ovV"
      },
      "execution_count": null,
      "outputs": []
    },
    {
      "cell_type": "code",
      "source": [
        "# Training loop\n",
        "for epoch in range(num_epochs):\n",
        "    for i, batch in enumerate(dataloader):\n",
        "       # Convert list to tensor\n",
        "        real_images = batch[0].to(device)\n",
        "        # Adversarial ground truths\n",
        "        valid = torch.ones(real_images.size(0), 1, device=device)\n",
        "        fake = torch.zeros(real_images.size(0), 1, device=device)\n",
        "        # Configure input\n",
        "        real_images = real_images.to(device)\n",
        "\n",
        "        # ---------------------\n",
        "        #  Train Discriminator\n",
        "        # ---------------------\n",
        "        optimizer_D.zero_grad()\n",
        "        # Sample noise as generator input\n",
        "        z = torch.randn(real_images.size(0), latent_dim, device=device)\n",
        "        # Generate a batch of images\n",
        "        fake_images = generator(z)\n",
        "\n",
        "        # Measure discriminator's ability\n",
        "        # to classify real and fake images\n",
        "        real_loss = adversarial_loss(discriminator\\\n",
        "                                     (real_images), valid)\n",
        "        fake_loss = adversarial_loss(discriminator\\\n",
        "                                     (fake_images.detach()), fake)\n",
        "        d_loss = (real_loss + fake_loss) / 2\n",
        "        # Backward pass and optimize\n",
        "        d_loss.backward()\n",
        "        optimizer_D.step()\n",
        "\n",
        "        # -----------------\n",
        "        #  Train Generator\n",
        "        # -----------------\n",
        "\n",
        "        optimizer_G.zero_grad()\n",
        "        # Generate a batch of images\n",
        "        gen_images = generator(z)\n",
        "        # Adversarial loss\n",
        "        g_loss = adversarial_loss(discriminator(gen_images), valid)\n",
        "        # Backward pass and optimize\n",
        "        g_loss.backward()\n",
        "        optimizer_G.step()\n",
        "        # ---------------------\n",
        "        #  Progress Monitoring\n",
        "        # ---------------------\n",
        "        if (i + 1) % 100 == 0:\n",
        "            print(\n",
        "                f\"Epoch [{epoch+1}/{num_epochs}]\\\n",
        "                        Batch {i+1}/{len(dataloader)} \"\n",
        "                f\"Discriminator Loss: {d_loss.item():.4f} \"\n",
        "                f\"Generator Loss: {g_loss.item():.4f}\"\n",
        "            )\n",
        "    # Save generated images for every epoch\n",
        "    if (epoch + 1) % 10 == 0:\n",
        "        with torch.no_grad():\n",
        "            z = torch.randn(16, latent_dim, device=device)\n",
        "            generated = generator(z).detach().cpu()\n",
        "            grid = torchvision.utils.make_grid(generated,\\\n",
        "                                        nrow=4, normalize=True)\n",
        "            plt.imshow(np.transpose(grid, (1, 2, 0)))\n",
        "            plt.axis(\"off\")\n",
        "            plt.show()"
      ],
      "metadata": {
        "colab": {
          "base_uri": "https://localhost:8080/"
        },
        "id": "WxSS1NGQ2sSa",
        "outputId": "9c15774d-541c-45f1-8a2d-1b4003390ee4"
      },
      "execution_count": null,
      "outputs": [
        {
          "output_type": "stream",
          "name": "stdout",
          "text": [
            "Epoch [1/10]                        Batch 100/1563 Discriminator Loss: 0.5796 Generator Loss: 0.8966\n",
            "Epoch [1/10]                        Batch 200/1563 Discriminator Loss: 0.7105 Generator Loss: 1.0266\n",
            "Epoch [1/10]                        Batch 300/1563 Discriminator Loss: 0.7775 Generator Loss: 0.9040\n",
            "Epoch [1/10]                        Batch 400/1563 Discriminator Loss: 0.6381 Generator Loss: 0.9361\n",
            "Epoch [1/10]                        Batch 500/1563 Discriminator Loss: 0.7292 Generator Loss: 0.8097\n",
            "Epoch [1/10]                        Batch 600/1563 Discriminator Loss: 0.7199 Generator Loss: 0.8537\n",
            "Epoch [1/10]                        Batch 700/1563 Discriminator Loss: 0.6625 Generator Loss: 0.8267\n",
            "Epoch [1/10]                        Batch 800/1563 Discriminator Loss: 0.7046 Generator Loss: 0.7133\n",
            "Epoch [1/10]                        Batch 900/1563 Discriminator Loss: 0.6735 Generator Loss: 1.0037\n",
            "Epoch [1/10]                        Batch 1000/1563 Discriminator Loss: 0.5934 Generator Loss: 0.9147\n",
            "Epoch [1/10]                        Batch 1100/1563 Discriminator Loss: 0.6716 Generator Loss: 0.9837\n",
            "Epoch [1/10]                        Batch 1200/1563 Discriminator Loss: 0.7283 Generator Loss: 0.7030\n",
            "Epoch [1/10]                        Batch 1300/1563 Discriminator Loss: 0.5314 Generator Loss: 1.2486\n",
            "Epoch [1/10]                        Batch 1400/1563 Discriminator Loss: 0.6916 Generator Loss: 1.0891\n",
            "Epoch [1/10]                        Batch 1500/1563 Discriminator Loss: 0.5104 Generator Loss: 1.1453\n",
            "Epoch [2/10]                        Batch 100/1563 Discriminator Loss: 0.7371 Generator Loss: 1.0129\n",
            "Epoch [2/10]                        Batch 200/1563 Discriminator Loss: 0.5710 Generator Loss: 1.0605\n",
            "Epoch [2/10]                        Batch 300/1563 Discriminator Loss: 0.6065 Generator Loss: 1.6939\n",
            "Epoch [2/10]                        Batch 400/1563 Discriminator Loss: 0.7417 Generator Loss: 1.1773\n",
            "Epoch [2/10]                        Batch 500/1563 Discriminator Loss: 0.5603 Generator Loss: 0.8127\n",
            "Epoch [2/10]                        Batch 600/1563 Discriminator Loss: 0.4736 Generator Loss: 1.3060\n",
            "Epoch [2/10]                        Batch 700/1563 Discriminator Loss: 0.5966 Generator Loss: 1.3300\n",
            "Epoch [2/10]                        Batch 800/1563 Discriminator Loss: 0.5225 Generator Loss: 1.2281\n",
            "Epoch [2/10]                        Batch 900/1563 Discriminator Loss: 0.7629 Generator Loss: 0.7994\n",
            "Epoch [2/10]                        Batch 1000/1563 Discriminator Loss: 0.6327 Generator Loss: 1.1762\n",
            "Epoch [2/10]                        Batch 1100/1563 Discriminator Loss: 0.7512 Generator Loss: 1.0193\n",
            "Epoch [2/10]                        Batch 1200/1563 Discriminator Loss: 0.6586 Generator Loss: 1.6257\n",
            "Epoch [2/10]                        Batch 1300/1563 Discriminator Loss: 0.4420 Generator Loss: 1.1367\n",
            "Epoch [2/10]                        Batch 1400/1563 Discriminator Loss: 0.6209 Generator Loss: 0.8757\n",
            "Epoch [2/10]                        Batch 1500/1563 Discriminator Loss: 0.6521 Generator Loss: 1.3932\n"
          ]
        }
      ]
    }
  ]
}